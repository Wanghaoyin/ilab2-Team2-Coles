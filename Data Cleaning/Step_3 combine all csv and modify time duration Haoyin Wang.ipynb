{
 "cells": [
  {
   "cell_type": "code",
   "execution_count": 2,
   "id": "5a5eebb2",
   "metadata": {
    "ExecuteTime": {
     "end_time": "2022-09-21T05:55:59.323428Z",
     "start_time": "2022-09-21T05:55:57.625117Z"
    }
   },
   "outputs": [],
   "source": [
    "import json\n",
    "import os\n",
    "import pandas as pd\n",
    "import numpy as np\n",
    "import glob"
   ]
  },
  {
   "cell_type": "code",
   "execution_count": 2,
   "id": "29b1df2f",
   "metadata": {
    "ExecuteTime": {
     "end_time": "2022-09-21T03:34:15.110051Z",
     "start_time": "2022-09-21T03:34:15.103968Z"
    }
   },
   "outputs": [],
   "source": [
    "# Load all csv file name\n",
    "df_all = pd.DataFrame()\n",
    "path = \"12_CSV/\"\n",
    "all_files = glob.glob(os.path.join(path, \"*.csv\"))\n",
    "all_files.sort()"
   ]
  },
  {
   "cell_type": "code",
   "execution_count": 4,
   "id": "85ca6008",
   "metadata": {
    "ExecuteTime": {
     "end_time": "2022-09-21T03:36:59.241037Z",
     "start_time": "2022-09-21T03:34:56.027370Z"
    }
   },
   "outputs": [
    {
     "name": "stdout",
     "output_type": "stream",
     "text": [
      "0\n",
      "1\n",
      "2\n",
      "3\n",
      "4\n",
      "5\n",
      "6\n",
      "7\n",
      "8\n",
      "9\n",
      "10\n",
      "11\n"
     ]
    }
   ],
   "source": [
    "df1 = df2 = pd.DataFrame()\n",
    "\n",
    "for i in range(6):\n",
    "    print(i)\n",
    "    df1 = df1.append(pd.read_csv(all_files[i]))\n",
    "    \n",
    "for i in range(6,12):\n",
    "    print(i)\n",
    "    df2 = df2.append(pd.read_csv(all_files[i]))"
   ]
  },
  {
   "cell_type": "code",
   "execution_count": 5,
   "id": "4a32882e",
   "metadata": {
    "ExecuteTime": {
     "end_time": "2022-09-21T03:37:33.254881Z",
     "start_time": "2022-09-21T03:36:59.258689Z"
    }
   },
   "outputs": [],
   "source": [
    "df = df1.append(df2)"
   ]
  },
  {
   "cell_type": "code",
   "execution_count": 13,
   "id": "97ca6b10",
   "metadata": {
    "ExecuteTime": {
     "end_time": "2022-09-21T04:33:03.417444Z",
     "start_time": "2022-09-21T04:32:38.971480Z"
    }
   },
   "outputs": [],
   "source": [
    "df = df[df['actorId'].notna()]"
   ]
  },
  {
   "cell_type": "code",
   "execution_count": 7,
   "id": "4979dd15",
   "metadata": {
    "ExecuteTime": {
     "end_time": "2022-09-21T03:40:14.782883Z",
     "start_time": "2022-09-21T03:37:40.851315Z"
    }
   },
   "outputs": [],
   "source": [
    "df = df.sort_values(['actorId', 'timestamp'],ascending = [True, True])"
   ]
  },
  {
   "cell_type": "code",
   "execution_count": 15,
   "id": "ae7e54d6",
   "metadata": {
    "ExecuteTime": {
     "end_time": "2022-09-21T04:37:27.220059Z",
     "start_time": "2022-09-21T04:33:23.147606Z"
    }
   },
   "outputs": [],
   "source": [
    "df.to_csv('CSV_file/final_sort.csv',index = False)"
   ]
  },
  {
   "cell_type": "code",
   "execution_count": 3,
   "id": "ea7542c2",
   "metadata": {
    "ExecuteTime": {
     "end_time": "2022-09-21T05:57:21.280928Z",
     "start_time": "2022-09-21T05:56:01.184140Z"
    }
   },
   "outputs": [
    {
     "name": "stderr",
     "output_type": "stream",
     "text": [
      "/Users/haoyinwang/opt/anaconda3/lib/python3.8/site-packages/IPython/core/interactiveshell.py:3165: DtypeWarning: Columns (12) have mixed types.Specify dtype option on import or set low_memory=False.\n",
      "  has_raised = await self.run_ast_nodes(code_ast.body, cell_name,\n"
     ]
    }
   ],
   "source": [
    "df = pd.read_csv('CSV_file/final_sort.csv')"
   ]
  },
  {
   "cell_type": "code",
   "execution_count": 6,
   "id": "5ca9bc74",
   "metadata": {
    "ExecuteTime": {
     "end_time": "2022-09-21T05:59:37.625204Z",
     "start_time": "2022-09-21T05:59:22.300010Z"
    }
   },
   "outputs": [],
   "source": [
    "actorid_list = np.array(df.actorId.to_list())\n",
    "duration_list = np.array(df.duration.to_list())\n",
    "timestamp_list = np.array(df.timestamp.to_list())"
   ]
  },
  {
   "cell_type": "code",
   "execution_count": 7,
   "id": "a5d6288c",
   "metadata": {
    "ExecuteTime": {
     "end_time": "2022-09-21T06:06:34.838432Z",
     "start_time": "2022-09-21T05:59:37.627305Z"
    }
   },
   "outputs": [
    {
     "name": "stdout",
     "output_type": "stream",
     "text": [
      "0\n",
      "1000000\n",
      "2000000\n",
      "3000000\n",
      "4000000\n",
      "5000000\n",
      "6000000\n",
      "7000000\n",
      "8000000\n",
      "9000000\n",
      "10000000\n",
      "11000000\n",
      "12000000\n",
      "13000000\n",
      "14000000\n",
      "15000000\n",
      "16000000\n",
      "17000000\n",
      "18000000\n",
      "19000000\n",
      "20000000\n",
      "21000000\n",
      "22000000\n",
      "23000000\n",
      "24000000\n",
      "25000000\n",
      "26000000\n",
      "27000000\n",
      "28000000\n",
      "29000000\n",
      "30000000\n",
      "31000000\n",
      "32000000\n",
      "33000000\n",
      "34000000\n",
      "35000000\n",
      "36000000\n",
      "37000000\n",
      "38000000\n",
      "39000000\n"
     ]
    }
   ],
   "source": [
    "diff_list = []\n",
    "for i in range(len(actorid_list)-1):\n",
    "    if(i % 1000000 == 0):\n",
    "        print(i)\n",
    "    a = timestamp_list[i]\n",
    "    b = timestamp_list[i+1]\n",
    "\n",
    "    date1 = np.array( [ int(i) for i in a.split('T')[0].split(\"-\")] )\n",
    "    date2 = np.array( [ int(i) for i in b.split('T')[0].split(\"-\")] )\n",
    "    time1 = np.array( [ float(i) for i in a.split('T')[1][:-1].split(\":\")] )\n",
    "    time2 = np.array( [ float(i) for i in b.split('T')[1][:-1].split(\":\")] )\n",
    "\n",
    "    if (date1==date2).all():\n",
    "        result = time2 - time1\n",
    "        diff = result[0]*3600 + result[1]*60 + result[2]\n",
    "        if diff > 7200:\n",
    "            diff = duration_list[i]/1000\n",
    "    else:\n",
    "        gap = (24-time1[0])*3600 + time2[0]*3600\n",
    "        if gap > 7200:\n",
    "            diff = duration_list[i]/1000\n",
    "        else:\n",
    "            diff = (24-time1[0])*3600 + time2[0]*3600 + time2[1]*60 + time2[2]\n",
    "    \n",
    "    diff_list.append(diff)\n",
    "\n",
    "diff_list.append(0)"
   ]
  },
  {
   "cell_type": "code",
   "execution_count": 8,
   "id": "c1af6906",
   "metadata": {
    "ExecuteTime": {
     "end_time": "2022-09-21T06:06:45.887714Z",
     "start_time": "2022-09-21T06:06:34.841400Z"
    }
   },
   "outputs": [],
   "source": [
    "df = df.drop(columns=['duration'])"
   ]
  },
  {
   "cell_type": "code",
   "execution_count": 9,
   "id": "65245508",
   "metadata": {
    "ExecuteTime": {
     "end_time": "2022-09-21T06:06:51.257177Z",
     "start_time": "2022-09-21T06:06:45.892896Z"
    }
   },
   "outputs": [],
   "source": [
    "df['duration'] = diff_list"
   ]
  },
  {
   "cell_type": "code",
   "execution_count": 10,
   "id": "f7b82a0b",
   "metadata": {
    "ExecuteTime": {
     "end_time": "2022-09-21T06:10:26.661552Z",
     "start_time": "2022-09-21T06:06:51.260039Z"
    }
   },
   "outputs": [],
   "source": [
    "df.to_csv('Final.csv',index = False)"
   ]
  },
  {
   "cell_type": "code",
   "execution_count": null,
   "id": "1e00ac9d",
   "metadata": {},
   "outputs": [],
   "source": []
  },
  {
   "cell_type": "code",
   "execution_count": null,
   "id": "ffc0b06b",
   "metadata": {},
   "outputs": [],
   "source": []
  },
  {
   "cell_type": "code",
   "execution_count": null,
   "id": "ee7c1ec7",
   "metadata": {},
   "outputs": [],
   "source": []
  }
 ],
 "metadata": {
  "kernelspec": {
   "display_name": "Python 3",
   "language": "python",
   "name": "python3"
  },
  "language_info": {
   "codemirror_mode": {
    "name": "ipython",
    "version": 3
   },
   "file_extension": ".py",
   "mimetype": "text/x-python",
   "name": "python",
   "nbconvert_exporter": "python",
   "pygments_lexer": "ipython3",
   "version": "3.8.8"
  },
  "toc": {
   "base_numbering": 1,
   "nav_menu": {},
   "number_sections": true,
   "sideBar": true,
   "skip_h1_title": false,
   "title_cell": "Table of Contents",
   "title_sidebar": "Contents",
   "toc_cell": false,
   "toc_position": {},
   "toc_section_display": true,
   "toc_window_display": false
  }
 },
 "nbformat": 4,
 "nbformat_minor": 5
}
