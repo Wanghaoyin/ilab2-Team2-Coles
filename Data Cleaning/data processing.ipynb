{
 "cells": [
  {
   "cell_type": "code",
   "execution_count": 1,
   "id": "f589e81e",
   "metadata": {
    "ExecuteTime": {
     "end_time": "2022-08-30T09:01:58.693419Z",
     "start_time": "2022-08-30T09:01:58.311385Z"
    }
   },
   "outputs": [],
   "source": [
    "import pandas as pd\n",
    "import numpy as np"
   ]
  },
  {
   "cell_type": "code",
   "execution_count": 2,
   "id": "472bbffd",
   "metadata": {
    "ExecuteTime": {
     "end_time": "2022-08-30T09:02:02.171001Z",
     "start_time": "2022-08-30T09:01:58.696725Z"
    }
   },
   "outputs": [],
   "source": [
    "df = pd.read_csv(\"July_2021_New_202208222035.csv\")"
   ]
  },
  {
   "cell_type": "code",
   "execution_count": 3,
   "id": "202e28ec",
   "metadata": {
    "ExecuteTime": {
     "end_time": "2022-08-30T09:02:02.197693Z",
     "start_time": "2022-08-30T09:02:02.174041Z"
    }
   },
   "outputs": [
    {
     "data": {
      "text/html": [
       "<div>\n",
       "<style scoped>\n",
       "    .dataframe tbody tr th:only-of-type {\n",
       "        vertical-align: middle;\n",
       "    }\n",
       "\n",
       "    .dataframe tbody tr th {\n",
       "        vertical-align: top;\n",
       "    }\n",
       "\n",
       "    .dataframe thead th {\n",
       "        text-align: right;\n",
       "    }\n",
       "</style>\n",
       "<table border=\"1\" class=\"dataframe\">\n",
       "  <thead>\n",
       "    <tr style=\"text-align: right;\">\n",
       "      <th></th>\n",
       "      <th>actorId</th>\n",
       "      <th>verb</th>\n",
       "      <th>type</th>\n",
       "      <th>activity</th>\n",
       "      <th>ancestors</th>\n",
       "      <th>duration</th>\n",
       "      <th>completion</th>\n",
       "      <th>Is Manager</th>\n",
       "      <th>Time Zone</th>\n",
       "      <th>timestamp</th>\n",
       "      <th>other</th>\n",
       "      <th>contained</th>\n",
       "      <th>rating</th>\n",
       "      <th>response</th>\n",
       "      <th>row_number</th>\n",
       "    </tr>\n",
       "  </thead>\n",
       "  <tbody>\n",
       "    <tr>\n",
       "      <th>0</th>\n",
       "      <td>account|https://coles.clearlrs.com|3fa55218f73...</td>\n",
       "      <td>http://adlnet.gov/expapi/verbs/registered</td>\n",
       "      <td>http://adlnet.gov/expapi/activities/lesson</td>\n",
       "      <td>https://coles.clearlrs.com/activities/_6Ac3BGi...</td>\n",
       "      <td>[{'activity': 'https://coles.clearlrs.com/acti...</td>\n",
       "      <td>10070</td>\n",
       "      <td>NaN</td>\n",
       "      <td>Y</td>\n",
       "      <td>Australia/Melbourne</td>\n",
       "      <td>2021-07-01T00:00:00.246Z</td>\n",
       "      <td>[{'activity': 'https://coles.hub.clearlrs.com'...</td>\n",
       "      <td>NaN</td>\n",
       "      <td>NaN</td>\n",
       "      <td>NaN</td>\n",
       "      <td>1</td>\n",
       "    </tr>\n",
       "    <tr>\n",
       "      <th>1</th>\n",
       "      <td>account|https://coles.clearlrs.com|9268e85c723...</td>\n",
       "      <td>http://adlnet.gov/expapi/verbs/completed</td>\n",
       "      <td>NaN</td>\n",
       "      <td>https://coles.clearlrs.com/activities/assets/0...</td>\n",
       "      <td>[{'activity': 'https://coles.clearlrs.com/acti...</td>\n",
       "      <td>401</td>\n",
       "      <td>1.0</td>\n",
       "      <td>N</td>\n",
       "      <td>Australia/Brisbane</td>\n",
       "      <td>2021-07-01T00:00:02.599Z</td>\n",
       "      <td>NaN</td>\n",
       "      <td>NaN</td>\n",
       "      <td>NaN</td>\n",
       "      <td>NaN</td>\n",
       "      <td>1</td>\n",
       "    </tr>\n",
       "    <tr>\n",
       "      <th>2</th>\n",
       "      <td>account|https://coles.clearlrs.com|7b027350-6f...</td>\n",
       "      <td>http://adlnet.gov/expapi/verbs/initialized</td>\n",
       "      <td>NaN</td>\n",
       "      <td>https://coles.hub.clearlrs.com</td>\n",
       "      <td>[{'activity': 'https://coles.hub.clearlrs.com'...</td>\n",
       "      <td>0</td>\n",
       "      <td>0.0</td>\n",
       "      <td>N</td>\n",
       "      <td>Australia/Melbourne</td>\n",
       "      <td>2021-07-01T00:00:04.375Z</td>\n",
       "      <td>NaN</td>\n",
       "      <td>NaN</td>\n",
       "      <td>NaN</td>\n",
       "      <td>NaN</td>\n",
       "      <td>1</td>\n",
       "    </tr>\n",
       "    <tr>\n",
       "      <th>3</th>\n",
       "      <td>account|https://coles.clearlrs.com|7b027350-6f...</td>\n",
       "      <td>http://adlnet.gov/expapi/verbs/experienced</td>\n",
       "      <td>NaN</td>\n",
       "      <td>https://coles.hub.clearlrs.com/learning</td>\n",
       "      <td>[{'activity': 'https://coles.hub.clearlrs.com'...</td>\n",
       "      <td>38641</td>\n",
       "      <td>0.0</td>\n",
       "      <td>N</td>\n",
       "      <td>Australia/Melbourne</td>\n",
       "      <td>2021-07-01T00:00:04.395Z</td>\n",
       "      <td>NaN</td>\n",
       "      <td>NaN</td>\n",
       "      <td>NaN</td>\n",
       "      <td>NaN</td>\n",
       "      <td>2</td>\n",
       "    </tr>\n",
       "  </tbody>\n",
       "</table>\n",
       "</div>"
      ],
      "text/plain": [
       "                                             actorId  \\\n",
       "0  account|https://coles.clearlrs.com|3fa55218f73...   \n",
       "1  account|https://coles.clearlrs.com|9268e85c723...   \n",
       "2  account|https://coles.clearlrs.com|7b027350-6f...   \n",
       "3  account|https://coles.clearlrs.com|7b027350-6f...   \n",
       "\n",
       "                                         verb  \\\n",
       "0   http://adlnet.gov/expapi/verbs/registered   \n",
       "1    http://adlnet.gov/expapi/verbs/completed   \n",
       "2  http://adlnet.gov/expapi/verbs/initialized   \n",
       "3  http://adlnet.gov/expapi/verbs/experienced   \n",
       "\n",
       "                                         type  \\\n",
       "0  http://adlnet.gov/expapi/activities/lesson   \n",
       "1                                         NaN   \n",
       "2                                         NaN   \n",
       "3                                         NaN   \n",
       "\n",
       "                                            activity  \\\n",
       "0  https://coles.clearlrs.com/activities/_6Ac3BGi...   \n",
       "1  https://coles.clearlrs.com/activities/assets/0...   \n",
       "2                     https://coles.hub.clearlrs.com   \n",
       "3            https://coles.hub.clearlrs.com/learning   \n",
       "\n",
       "                                           ancestors  duration  completion  \\\n",
       "0  [{'activity': 'https://coles.clearlrs.com/acti...     10070         NaN   \n",
       "1  [{'activity': 'https://coles.clearlrs.com/acti...       401         1.0   \n",
       "2  [{'activity': 'https://coles.hub.clearlrs.com'...         0         0.0   \n",
       "3  [{'activity': 'https://coles.hub.clearlrs.com'...     38641         0.0   \n",
       "\n",
       "  Is Manager            Time Zone                 timestamp  \\\n",
       "0          Y  Australia/Melbourne  2021-07-01T00:00:00.246Z   \n",
       "1          N   Australia/Brisbane  2021-07-01T00:00:02.599Z   \n",
       "2          N  Australia/Melbourne  2021-07-01T00:00:04.375Z   \n",
       "3          N  Australia/Melbourne  2021-07-01T00:00:04.395Z   \n",
       "\n",
       "                                               other contained  rating  \\\n",
       "0  [{'activity': 'https://coles.hub.clearlrs.com'...       NaN     NaN   \n",
       "1                                                NaN       NaN     NaN   \n",
       "2                                                NaN       NaN     NaN   \n",
       "3                                                NaN       NaN     NaN   \n",
       "\n",
       "  response  row_number  \n",
       "0      NaN           1  \n",
       "1      NaN           1  \n",
       "2      NaN           1  \n",
       "3      NaN           2  "
      ]
     },
     "execution_count": 3,
     "metadata": {},
     "output_type": "execute_result"
    }
   ],
   "source": [
    "df.head(4)"
   ]
  },
  {
   "cell_type": "code",
   "execution_count": 4,
   "id": "827f074b",
   "metadata": {
    "ExecuteTime": {
     "end_time": "2022-08-30T09:02:02.201852Z",
     "start_time": "2022-08-30T09:02:02.199194Z"
    }
   },
   "outputs": [],
   "source": [
    "def to_dict(col):\n",
    "    index_list = list(range(len(col)))\n",
    "    res_dct = dict(zip(col, index_list))\n",
    "    return res_dct"
   ]
  },
  {
   "cell_type": "code",
   "execution_count": 5,
   "id": "7a86b339",
   "metadata": {
    "ExecuteTime": {
     "end_time": "2022-08-30T09:02:02.568665Z",
     "start_time": "2022-08-30T09:02:02.204344Z"
    }
   },
   "outputs": [],
   "source": [
    "# verb: keep the last word\n",
    "list_verb = df['verb'].tolist()\n",
    "list_verb = [ i.split('/')[-1] for i in list_verb]\n",
    "df['verb'] = list_verb"
   ]
  },
  {
   "cell_type": "code",
   "execution_count": 6,
   "id": "1b1da5dd",
   "metadata": {
    "ExecuteTime": {
     "end_time": "2022-08-30T09:02:03.178470Z",
     "start_time": "2022-08-30T09:02:02.571461Z"
    }
   },
   "outputs": [],
   "source": [
    "# actorid: convert to dict\n",
    "list_actorid = df['actorId'].unique()\n",
    "dict_actorid = to_dict(list_actorid)\n",
    "temp_list = [dict_actorid[i] for i in df['actorId']]\n",
    "df['actorId'] = temp_list"
   ]
  },
  {
   "cell_type": "code",
   "execution_count": 7,
   "id": "38fcefba",
   "metadata": {
    "ExecuteTime": {
     "end_time": "2022-08-30T09:02:04.487817Z",
     "start_time": "2022-08-30T09:02:03.182949Z"
    }
   },
   "outputs": [],
   "source": [
    "# type: keep last word\n",
    "list_type = df['type'].tolist()\n",
    "list_type = [ str(i).split('/')[-1] for i in list_type]\n",
    "for i in range(0,len(list_type)):\n",
    "    if list_type[i] == 'nan':\n",
    "        list_type[i] = pd.NA\n",
    "df['type'] = list_type"
   ]
  },
  {
   "cell_type": "code",
   "execution_count": 8,
   "id": "79be08fe",
   "metadata": {
    "ExecuteTime": {
     "end_time": "2022-08-30T09:02:04.635435Z",
     "start_time": "2022-08-30T09:02:04.491030Z"
    }
   },
   "outputs": [],
   "source": [
    "#Is manager: YN to 10\n",
    "df.loc[(df[\"Is Manager\"] == \"Y\"), \"Is Manager\"] = 1\n",
    "df.loc[(df[\"Is Manager\"] == \"N\"), \"Is Manager\"] = 0"
   ]
  },
  {
   "cell_type": "code",
   "execution_count": 9,
   "id": "c3da20b4",
   "metadata": {
    "ExecuteTime": {
     "end_time": "2022-08-30T09:02:05.097196Z",
     "start_time": "2022-08-30T09:02:04.637676Z"
    }
   },
   "outputs": [],
   "source": [
    "#time zone: convert to dict\n",
    "list_timezone = df['Time Zone'].unique()\n",
    "dict_timezone = to_dict(list_timezone)\n",
    "temp_list = [dict_timezone[i] for i in df['Time Zone']]\n",
    "df['Time Zone'] = temp_list"
   ]
  },
  {
   "cell_type": "code",
   "execution_count": null,
   "id": "3e8cdedc",
   "metadata": {},
   "outputs": [],
   "source": []
  },
  {
   "cell_type": "code",
   "execution_count": 10,
   "id": "336d4e31",
   "metadata": {
    "ExecuteTime": {
     "end_time": "2022-08-30T09:02:05.145630Z",
     "start_time": "2022-08-30T09:02:05.099697Z"
    }
   },
   "outputs": [],
   "source": [
    "def manual_label(i):\n",
    "    if i == 'https://coles.hub.clearlrs.com':\n",
    "        i = \"home\"\n",
    "        pass\n",
    "    if \"activities\" in i:\n",
    "        i = \"activities\"\n",
    "        pass\n",
    "    if \"course_id\" in i:\n",
    "        i = 'course_id'\n",
    "        pass\n",
    "    if \"notifications\" in i:\n",
    "        i = 'notifications'\n",
    "        pass\n",
    "    if \"course/\" in i:\n",
    "        i = \"learningseat_course\"\n",
    "        pass\n",
    "    if \"colesplay\" in i:\n",
    "        i = \"colesplay\"\n",
    "        pass\n",
    "    i = i.split('/')[-1] \n",
    "    \n",
    "    return i"
   ]
  },
  {
   "cell_type": "code",
   "execution_count": 11,
   "id": "4f418f40",
   "metadata": {
    "ExecuteTime": {
     "end_time": "2022-08-30T09:02:05.736136Z",
     "start_time": "2022-08-30T09:02:05.147610Z"
    }
   },
   "outputs": [],
   "source": [
    "# activity: manually label\n",
    "list_activity = df['activity']\n",
    "list_activity = np.array(list_activity)\n",
    "temp_list = []\n",
    "for i in list_activity:\n",
    "    res = manual_label(i)\n",
    "    temp_list.append(res)\n",
    "\n",
    "df['activity'] = temp_list"
   ]
  },
  {
   "cell_type": "code",
   "execution_count": 12,
   "id": "dcf18e3f",
   "metadata": {
    "ExecuteTime": {
     "end_time": "2022-08-30T09:02:08.963168Z",
     "start_time": "2022-08-30T09:02:05.739609Z"
    }
   },
   "outputs": [],
   "source": [
    "# ancestors,[each activities]\n",
    "list_ancestors = df['ancestors']\n",
    "list_ancestors = np.array(list_ancestors)\n",
    "temp_list = []\n",
    "for i in list_ancestors:\n",
    "    lines = i[1:-1].split(\",\")\n",
    "    temp_list.append([manual_label(lines[i][14:-1]) for i in range(len(lines)) if i % 2 == 0])\n",
    "df['ancestors'] = temp_list"
   ]
  },
  {
   "cell_type": "code",
   "execution_count": 13,
   "id": "520d0fac",
   "metadata": {
    "ExecuteTime": {
     "end_time": "2022-08-30T09:02:15.646239Z",
     "start_time": "2022-08-30T09:02:08.965861Z"
    }
   },
   "outputs": [],
   "source": [
    "# other: use manaul label\n",
    "list_other = df.other\n",
    "temp_list =[]\n",
    "for i in range(len(list_other)):\n",
    "    if str(list_other[i]) == '<NA>' or str(list_other[i]) == 'nan':\n",
    "        temp_list.append(pd.NA)\n",
    "    else:\n",
    "        temp_list.append(manual_label(list_other[i][15:-15]))\n",
    "        \n",
    "df['other'] = temp_list"
   ]
  },
  {
   "cell_type": "code",
   "execution_count": 14,
   "id": "796ed50f",
   "metadata": {
    "ExecuteTime": {
     "end_time": "2022-08-30T09:02:21.929800Z",
     "start_time": "2022-08-30T09:02:15.648326Z"
    }
   },
   "outputs": [],
   "source": [
    "# contained, [search actorid dict, verb last word]\n",
    "list_contain = df.contained\n",
    "temp_list = []\n",
    "for i in range(0,len(list_contain)):\n",
    "    if str(list_contain[i]) == '<NA>' or str(list_contain[i]) == 'nan':\n",
    "        temp_list.append(pd.NA)\n",
    "    else:\n",
    "        target_id = list_contain[i].split(',')[0][13:-1]\n",
    "        result = []\n",
    "        try:\n",
    "            result.append(dict_actorid[target_id])\n",
    "        except KeyError:\n",
    "            result.append('unrecorded')\n",
    "        \n",
    "        contained_verb = list_contain[i].split(',')[1][10:-2].split('/')[-1]\n",
    "        result.append(contained_verb)\n",
    "        temp_list.append(result)\n",
    "df.contained = temp_list"
   ]
  },
  {
   "cell_type": "code",
   "execution_count": 15,
   "id": "51200815",
   "metadata": {
    "ExecuteTime": {
     "end_time": "2022-08-30T09:02:26.464205Z",
     "start_time": "2022-08-30T09:02:21.932696Z"
    }
   },
   "outputs": [],
   "source": [
    "df.to_csv('cleaned.csv')"
   ]
  },
  {
   "cell_type": "code",
   "execution_count": null,
   "id": "002e91bd",
   "metadata": {},
   "outputs": [],
   "source": []
  },
  {
   "cell_type": "code",
   "execution_count": null,
   "id": "e5dc8e6b",
   "metadata": {},
   "outputs": [],
   "source": []
  },
  {
   "cell_type": "code",
   "execution_count": null,
   "id": "5697e5cd",
   "metadata": {},
   "outputs": [],
   "source": []
  },
  {
   "cell_type": "code",
   "execution_count": null,
   "id": "639ebf07",
   "metadata": {},
   "outputs": [],
   "source": []
  },
  {
   "cell_type": "code",
   "execution_count": null,
   "id": "1d4d2135",
   "metadata": {},
   "outputs": [],
   "source": []
  },
  {
   "cell_type": "code",
   "execution_count": null,
   "id": "483f7e7b",
   "metadata": {},
   "outputs": [],
   "source": []
  },
  {
   "cell_type": "code",
   "execution_count": null,
   "id": "e068247b",
   "metadata": {},
   "outputs": [],
   "source": []
  }
 ],
 "metadata": {
  "kernelspec": {
   "display_name": "Python 3",
   "language": "python",
   "name": "python3"
  },
  "language_info": {
   "codemirror_mode": {
    "name": "ipython",
    "version": 3
   },
   "file_extension": ".py",
   "mimetype": "text/x-python",
   "name": "python",
   "nbconvert_exporter": "python",
   "pygments_lexer": "ipython3",
   "version": "3.8.8"
  },
  "toc": {
   "base_numbering": 1,
   "nav_menu": {},
   "number_sections": true,
   "sideBar": true,
   "skip_h1_title": false,
   "title_cell": "Table of Contents",
   "title_sidebar": "Contents",
   "toc_cell": false,
   "toc_position": {},
   "toc_section_display": true,
   "toc_window_display": false
  }
 },
 "nbformat": 4,
 "nbformat_minor": 5
}
