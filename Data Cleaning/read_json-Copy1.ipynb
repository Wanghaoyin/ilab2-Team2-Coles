{
 "cells": [
  {
   "cell_type": "code",
   "execution_count": 1,
   "id": "a18dbce1",
   "metadata": {
    "ExecuteTime": {
     "end_time": "2022-08-31T11:59:39.130423Z",
     "start_time": "2022-08-31T11:59:38.053696Z"
    }
   },
   "outputs": [],
   "source": [
    "import json\n",
    "import os\n",
    "import pandas as pd\n",
    "import numpy as np\n",
    "import glob"
   ]
  },
  {
   "cell_type": "code",
   "execution_count": 2,
   "id": "4722ad72",
   "metadata": {
    "ExecuteTime": {
     "end_time": "2022-08-31T11:59:39.135891Z",
     "start_time": "2022-08-31T11:59:39.133493Z"
    }
   },
   "outputs": [],
   "source": [
    "#1-60\n",
    "#61-120\n",
    "#121-180\n",
    "#181-240\n",
    "#241-300\n",
    "#301-365"
   ]
  },
  {
   "cell_type": "code",
   "execution_count": 3,
   "id": "f593681f",
   "metadata": {
    "ExecuteTime": {
     "end_time": "2022-08-31T11:59:39.149496Z",
     "start_time": "2022-08-31T11:59:39.140637Z"
    }
   },
   "outputs": [],
   "source": [
    "df_all = pd.DataFrame()\n",
    "path = \"Json_file/\"\n",
    "all_files = glob.glob(os.path.join(path, \"*.json\"))\n",
    "all_files.sort()"
   ]
  },
  {
   "cell_type": "code",
   "execution_count": 4,
   "id": "b5c469ef",
   "metadata": {
    "ExecuteTime": {
     "end_time": "2022-08-31T11:59:39.272234Z",
     "start_time": "2022-08-31T11:59:39.267388Z"
    }
   },
   "outputs": [],
   "source": [
    "def read_json_file(json_name):\n",
    "    df = []\n",
    "    for line in open(json_name, 'r'):\n",
    "        df.append(json.loads(line))\n",
    "    df = pd.DataFrame(df)\n",
    "    return df\n",
    "    "
   ]
  },
  {
   "cell_type": "code",
   "execution_count": 13,
   "id": "61b12535",
   "metadata": {
    "ExecuteTime": {
     "end_time": "2022-08-31T12:28:53.201151Z",
     "start_time": "2022-08-31T12:25:08.394207Z"
    }
   },
   "outputs": [
    {
     "name": "stdout",
     "output_type": "stream",
     "text": [
      "Json_file/2022-05-27.json  1\n",
      "Json_file/2022-05-28.json  2\n",
      "Json_file/2022-05-29.json  3\n",
      "Json_file/2022-05-30.json  4\n",
      "Json_file/2022-05-31.json  5\n",
      "Json_file/2022-06-01.json  6\n",
      "Json_file/2022-06-02.json  7\n",
      "Json_file/2022-06-03.json  8\n",
      "Json_file/2022-06-04.json  9\n",
      "Json_file/2022-06-05.json  10\n",
      "Json_file/2022-06-06.json  11\n",
      "Json_file/2022-06-07.json  12\n",
      "Json_file/2022-06-08.json  13\n",
      "Json_file/2022-06-09.json  14\n",
      "Json_file/2022-06-10.json  15\n",
      "Json_file/2022-06-11.json  16\n",
      "Json_file/2022-06-12.json  17\n",
      "Json_file/2022-06-13.json  18\n",
      "Json_file/2022-06-14.json  19\n",
      "Json_file/2022-06-15.json  20\n",
      "Json_file/2022-06-16.json  21\n",
      "Json_file/2022-06-17.json  22\n",
      "Json_file/2022-06-18.json  23\n",
      "Json_file/2022-06-19.json  24\n",
      "Json_file/2022-06-20.json  25\n",
      "Json_file/2022-06-21.json  26\n",
      "Json_file/2022-06-22.json  27\n",
      "Json_file/2022-06-23.json  28\n",
      "Json_file/2022-06-24.json  29\n",
      "Json_file/2022-06-25.json  30\n",
      "Json_file/2022-06-26.json  31\n",
      "Json_file/2022-06-27.json  32\n",
      "Json_file/2022-06-28.json  33\n",
      "Json_file/2022-06-29.json  34\n",
      "Json_file/2022-06-30.json  35\n",
      "verb\n",
      "type\n",
      "manager\n",
      "Starter\n",
      "activity\n",
      "ancestors\n",
      "other\n",
      "Completed\n"
     ]
    }
   ],
   "source": [
    "df_all = pd.DataFrame()\n",
    "count = 1\n",
    "for i in all_files[330:]:\n",
    "    df_all = df_all.append(read_json_file(i))\n",
    "    print(i + \"  \" + str(count))\n",
    "    count+=1\n",
    "clean_first(df_all,'330-365.csv')"
   ]
  },
  {
   "cell_type": "code",
   "execution_count": 15,
   "id": "0308be53",
   "metadata": {
    "ExecuteTime": {
     "end_time": "2022-08-31T12:29:58.089869Z",
     "start_time": "2022-08-31T12:29:58.081914Z"
    }
   },
   "outputs": [
    {
     "data": {
      "text/plain": [
       "['1-30.csv',\n",
       " '120-150.csv',\n",
       " '150-180.csv',\n",
       " '180-210.csv',\n",
       " '210-240.csv',\n",
       " '240-270.csv',\n",
       " '270-300.csv',\n",
       " '300-330.csv',\n",
       " '31-60.csv',\n",
       " '330-365.csv',\n",
       " '60-90.csv',\n",
       " '90-120.csv']"
      ]
     },
     "execution_count": 15,
     "metadata": {},
     "output_type": "execute_result"
    }
   ],
   "source": [
    "path = \"\"\n",
    "all_files = glob.glob(os.path.join(path, \"*.csv\"))\n",
    "all_files.sort()\n",
    "all_files"
   ]
  },
  {
   "cell_type": "code",
   "execution_count": 48,
   "id": "14159c44",
   "metadata": {
    "ExecuteTime": {
     "end_time": "2022-08-31T12:56:50.831547Z",
     "start_time": "2022-08-31T12:55:43.418069Z"
    }
   },
   "outputs": [
    {
     "name": "stdout",
     "output_type": "stream",
     "text": [
      "1-30.csv  1\n",
      "120-150.csv  2\n",
      "150-180.csv  3\n",
      "180-210.csv  4\n",
      "210-240.csv  5\n",
      "240-270.csv  6\n"
     ]
    }
   ],
   "source": [
    "df_all = pd.DataFrame()\n",
    "count = 1\n",
    "for i in all_files[:6]:\n",
    "    df_all = df_all.append(pd.read_csv(i))\n",
    "    print(i + \"  \" + str(count))\n",
    "    count+=1"
   ]
  },
  {
   "cell_type": "code",
   "execution_count": 49,
   "id": "a9fc7246",
   "metadata": {
    "ExecuteTime": {
     "end_time": "2022-08-31T12:58:37.412910Z",
     "start_time": "2022-08-31T12:56:50.842192Z"
    }
   },
   "outputs": [],
   "source": [
    "df_all.to_csv('CSV_file/part01.csv')"
   ]
  },
  {
   "cell_type": "code",
   "execution_count": 50,
   "id": "2db8c9f0",
   "metadata": {
    "ExecuteTime": {
     "end_time": "2022-08-31T12:58:37.818802Z",
     "start_time": "2022-08-31T12:58:37.802348Z"
    }
   },
   "outputs": [
    {
     "data": {
      "text/plain": [
       "['CSV_file/part01.csv', 'CSV_file/part02.csv']"
      ]
     },
     "execution_count": 50,
     "metadata": {},
     "output_type": "execute_result"
    }
   ],
   "source": [
    "path = \"CSV_file\"\n",
    "all_files = glob.glob(os.path.join(path, \"*.csv\"))\n",
    "all_files.sort()\n",
    "all_files"
   ]
  },
  {
   "cell_type": "code",
   "execution_count": 51,
   "id": "ad496e0e",
   "metadata": {
    "ExecuteTime": {
     "end_time": "2022-08-31T13:01:18.660941Z",
     "start_time": "2022-08-31T12:59:27.044411Z"
    }
   },
   "outputs": [
    {
     "name": "stdout",
     "output_type": "stream",
     "text": [
      "CSV_file/part01.csv  1\n",
      "CSV_file/part02.csv  2\n"
     ]
    }
   ],
   "source": [
    "df_all = pd.DataFrame()\n",
    "count = 1\n",
    "for i in all_files:\n",
    "    df_all = df_all.append(pd.read_csv(i))\n",
    "    print(i + \"  \" + str(count))\n",
    "    count+=1"
   ]
  },
  {
   "cell_type": "code",
   "execution_count": 52,
   "id": "78572907",
   "metadata": {
    "ExecuteTime": {
     "end_time": "2022-08-31T13:05:58.489353Z",
     "start_time": "2022-08-31T13:01:18.681013Z"
    }
   },
   "outputs": [
    {
     "name": "stdout",
     "output_type": "stream",
     "text": [
      "actorid\n",
      "time zone\n",
      "contained\n"
     ]
    }
   ],
   "source": [
    "clean_dict(df_all,\"CSV_file/Cleaned_all.csv\")"
   ]
  },
  {
   "cell_type": "code",
   "execution_count": null,
   "id": "5186acff",
   "metadata": {},
   "outputs": [],
   "source": []
  },
  {
   "cell_type": "code",
   "execution_count": null,
   "id": "1330d9e4",
   "metadata": {},
   "outputs": [],
   "source": []
  },
  {
   "cell_type": "code",
   "execution_count": null,
   "id": "497e4340",
   "metadata": {},
   "outputs": [],
   "source": []
  },
  {
   "cell_type": "code",
   "execution_count": null,
   "id": "f3636827",
   "metadata": {},
   "outputs": [],
   "source": []
  },
  {
   "cell_type": "code",
   "execution_count": null,
   "id": "fa842420",
   "metadata": {},
   "outputs": [],
   "source": []
  },
  {
   "cell_type": "code",
   "execution_count": 5,
   "id": "edf60e0d",
   "metadata": {
    "ExecuteTime": {
     "end_time": "2022-08-31T11:59:41.587525Z",
     "start_time": "2022-08-31T11:59:41.569732Z"
    }
   },
   "outputs": [],
   "source": [
    "def to_dict(col):\n",
    "    index_list = list(range(len(col)))\n",
    "    res_dct = dict(zip(col, index_list))\n",
    "    return res_dct\n",
    "\n",
    "def manual_label(i):\n",
    "    if i == 'https://coles.hub.clearlrs.com':\n",
    "        i = \"home\"\n",
    "        pass\n",
    "    if \"activities\" in i:\n",
    "        i = \"activities\"\n",
    "        pass\n",
    "    if \"course_id\" in i:\n",
    "        i = 'course_id'\n",
    "        pass\n",
    "    if \"notifications\" in i:\n",
    "        i = 'notifications'\n",
    "        pass\n",
    "    if \"course/\" in i:\n",
    "        i = \"learningseat_course\"\n",
    "        pass\n",
    "    if \"colesplay\" in i:\n",
    "        i = \"colesplay\"\n",
    "        pass\n",
    "    i = i.split('/')[-1] \n",
    "    \n",
    "    return i\n",
    "\n",
    "def clean_first(df,name):\n",
    "    df = df.drop([\"id\"],axis = 1)\n",
    "    # verb: keep the last word\n",
    "    list_verb = df['verb'].tolist()\n",
    "    list_verb = [ i.split('/')[-1] for i in list_verb]\n",
    "    df['verb'] = list_verb\n",
    "    print(\"verb\")\n",
    "    \n",
    "    # type: keep last word\n",
    "    list_type = df['type'].tolist()\n",
    "    list_type = [ str(i).split('/')[-1] for i in list_type]\n",
    "    for i in range(0,len(list_type)):\n",
    "        if list_type[i] == 'nan':\n",
    "            list_type[i] = pd.NA\n",
    "    df['type'] = list_type\n",
    "    print(\"type\")\n",
    "\n",
    "    #Is manager: YN to 10\n",
    "    df.loc[(df[\"Is Manager\"] == \"Y\"), \"Is Manager\"] = 1\n",
    "    df.loc[(df[\"Is Manager\"] == \"N\"), \"Is Manager\"] = 0\n",
    "    print(\"manager\")\n",
    "    \n",
    "    #Is new starter: YN to 10\n",
    "    df.loc[(df[\"Is New Starter\"] == \"Y\"), \"Is New Starter\"] = 1\n",
    "    df.loc[(df[\"Is New Starter\"] == \"N\"), \"Is New Starter\"] = 0\n",
    "    print(\"Starter\")\n",
    "    \n",
    "    # activity: manually label\n",
    "    list_activity = df['activity']\n",
    "    list_activity = np.array(list_activity)\n",
    "    temp_list = []\n",
    "    for i in list_activity:\n",
    "        res = manual_label(i)\n",
    "        temp_list.append(res)\n",
    "\n",
    "    df['activity'] = temp_list\n",
    "    print(\"activity\")\n",
    "    \n",
    "    # ancestors,[each activities]\n",
    "    list_ancestors = np.array(df['ancestors'])\n",
    "    temp_list = []\n",
    "    for i in list_ancestors:\n",
    "        lines = str(i)[1:-1].split(\",\")\n",
    "        temp_list.append([manual_label(lines[i][14:-1]) for i in range(len(lines)) if i % 2 == 0])\n",
    "    df['ancestors'] = temp_list\n",
    "    print(\"ancestors\")\n",
    "    \n",
    "    # other: use manaul label\n",
    "    list_other = np.array(df.other)\n",
    "    temp_list =[]\n",
    "    for i in range(len(list_other)):\n",
    "        if str(list_other[i]) == '<NA>' or str(list_other[i]) == 'nan':\n",
    "            temp_list.append(pd.NA)\n",
    "        else:\n",
    "            temp_list.append(manual_label(str(list_other[i])[15:-15]))\n",
    "            \n",
    "    df['other'] = temp_list\n",
    "    print(\"other\")\n",
    "    \n",
    "    df.to_csv(name)\n",
    "    print(\"Completed\")\n"
   ]
  },
  {
   "cell_type": "code",
   "execution_count": 39,
   "id": "9b937fea",
   "metadata": {
    "ExecuteTime": {
     "end_time": "2022-08-31T12:45:28.781404Z",
     "start_time": "2022-08-31T12:45:28.771056Z"
    }
   },
   "outputs": [],
   "source": [
    "def clean_dict(df,name):\n",
    "    \n",
    "    # actorid: convert to dict\n",
    "    list_actorid = df['actorId'].unique()\n",
    "    dict_actorid = to_dict(list_actorid)\n",
    "    temp_list = [dict_actorid[i] for i in df['actorId']]\n",
    "    df['actorId'] = temp_list\n",
    "    print(\"actorid\")\n",
    "    \n",
    "    \n",
    "    #time zone: convert to dict\n",
    "    list_timezone = df['Time Zone'].unique()\n",
    "    dict_timezone = to_dict(list_timezone)\n",
    "    temp_list = [dict_timezone[i] for i in df['Time Zone']]\n",
    "    df['Time Zone'] = temp_list\n",
    "    print(\"time zone\")\n",
    "    \n",
    "    \n",
    "    # contained, [search actorid dict, verb last word]\n",
    "    list_contain = np.array(df.contained)\n",
    "    temp_list = []\n",
    "    for i in range(0,len(list_contain)):\n",
    "        if str(list_contain[i]) == '<NA>' or str(list_contain[i]) == 'nan':\n",
    "            temp_list.append(pd.NA)\n",
    "        else:\n",
    "            target_id = str(list_contain[i]).split(',')[0][13:-1]\n",
    "            result = []\n",
    "            try:\n",
    "                result.append(dict_actorid[target_id])\n",
    "            except KeyError:\n",
    "                result.append('unrecorded')\n",
    "\n",
    "            contained_verb = str(list_contain[i]).split(',')[1][10:-2].split('/')[-1]\n",
    "            result.append(contained_verb)\n",
    "            temp_list.append(result)\n",
    "    df.contained = temp_list\n",
    "    df.to_csv(name)\n",
    "    print(\"contained\")"
   ]
  },
  {
   "cell_type": "code",
   "execution_count": null,
   "id": "f10d718e",
   "metadata": {},
   "outputs": [],
   "source": []
  },
  {
   "cell_type": "code",
   "execution_count": 43,
   "id": "e9250b00",
   "metadata": {
    "ExecuteTime": {
     "end_time": "2022-08-31T12:51:34.911614Z",
     "start_time": "2022-08-31T12:51:34.768846Z"
    }
   },
   "outputs": [
    {
     "name": "stdout",
     "output_type": "stream",
     "text": [
      "198\n"
     ]
    }
   ],
   "source": [
    "list_contain = np.array(df_all.contained)\n",
    "temp_list = []\n",
    "for i in range(0,len(list_contain)):\n",
    "        if str(list_contain[i]) == '<NA>' or str(list_contain[i]) == 'nan':\n",
    "            temp_list.append(pd.NA)\n",
    "        else:\n",
    "            print(i)\n",
    "            break"
   ]
  },
  {
   "cell_type": "code",
   "execution_count": 44,
   "id": "24bb8153",
   "metadata": {
    "ExecuteTime": {
     "end_time": "2022-08-31T12:51:41.053678Z",
     "start_time": "2022-08-31T12:51:41.044638Z"
    }
   },
   "outputs": [
    {
     "data": {
      "text/plain": [
       "[4676, 'shared']"
      ]
     },
     "execution_count": 44,
     "metadata": {},
     "output_type": "execute_result"
    }
   ],
   "source": [
    "list_contain[198]"
   ]
  },
  {
   "cell_type": "code",
   "execution_count": null,
   "id": "319bc476",
   "metadata": {},
   "outputs": [],
   "source": []
  },
  {
   "cell_type": "code",
   "execution_count": null,
   "id": "16160431",
   "metadata": {},
   "outputs": [],
   "source": []
  },
  {
   "cell_type": "code",
   "execution_count": null,
   "id": "37a803cc",
   "metadata": {},
   "outputs": [],
   "source": []
  }
 ],
 "metadata": {
  "kernelspec": {
   "display_name": "Python 3",
   "language": "python",
   "name": "python3"
  },
  "language_info": {
   "codemirror_mode": {
    "name": "ipython",
    "version": 3
   },
   "file_extension": ".py",
   "mimetype": "text/x-python",
   "name": "python",
   "nbconvert_exporter": "python",
   "pygments_lexer": "ipython3",
   "version": "3.8.8"
  },
  "toc": {
   "base_numbering": 1,
   "nav_menu": {},
   "number_sections": true,
   "sideBar": true,
   "skip_h1_title": false,
   "title_cell": "Table of Contents",
   "title_sidebar": "Contents",
   "toc_cell": false,
   "toc_position": {},
   "toc_section_display": true,
   "toc_window_display": false
  }
 },
 "nbformat": 4,
 "nbformat_minor": 5
}
