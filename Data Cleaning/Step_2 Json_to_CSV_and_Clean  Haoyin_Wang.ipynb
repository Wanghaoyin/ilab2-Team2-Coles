{
 "cells": [
  {
   "cell_type": "code",
   "execution_count": 1,
   "id": "3daa29c8",
   "metadata": {
    "ExecuteTime": {
     "end_time": "2022-09-20T12:24:21.672295Z",
     "start_time": "2022-09-20T12:24:21.259468Z"
    }
   },
   "outputs": [],
   "source": [
    "import json\n",
    "import os\n",
    "import pandas as pd\n",
    "import numpy as np\n",
    "import glob"
   ]
  },
  {
   "cell_type": "code",
   "execution_count": 2,
   "id": "bc9adf7a",
   "metadata": {
    "ExecuteTime": {
     "end_time": "2022-09-20T12:24:21.680668Z",
     "start_time": "2022-09-20T12:24:21.675530Z"
    }
   },
   "outputs": [],
   "source": [
    "df_all = pd.DataFrame()\n",
    "path = \"Json_file/\"\n",
    "all_files = glob.glob(os.path.join(path, \"*.json\"))\n",
    "all_files.sort()"
   ]
  },
  {
   "cell_type": "code",
   "execution_count": 3,
   "id": "493cb747",
   "metadata": {
    "ExecuteTime": {
     "end_time": "2022-09-20T12:24:22.009258Z",
     "start_time": "2022-09-20T12:24:21.683493Z"
    }
   },
   "outputs": [],
   "source": [
    "#df_activities = pd.read_csv('activities.csv')\n",
    "df_timezone = pd.read_csv('timezone_dict.csv')\n",
    "df_actorid = pd.read_csv('actorid_dict.csv')\n",
    "\n",
    "dict_actorid = dict(zip(df_actorid.actorId, df_actorid.key))\n",
    "dict_timezone = dict(zip(df_timezone['timezone'], df_actorid['key']))\n",
    "#dict_cms = dict(zip(df_activities.id, df_activities['CMS Type']))"
   ]
  },
  {
   "cell_type": "code",
   "execution_count": 43,
   "id": "7e8e80e6",
   "metadata": {
    "ExecuteTime": {
     "end_time": "2022-09-20T13:30:51.557131Z",
     "start_time": "2022-09-20T13:30:51.552102Z"
    }
   },
   "outputs": [],
   "source": [
    "def read_json_file(json_name):\n",
    "    df = []\n",
    "    try:\n",
    "        for line in open(json_name, 'r'):\n",
    "            try:\n",
    "                df.append(json.loads(line))\n",
    "            except:\n",
    "                pass\n",
    "    except:\n",
    "        pass\n",
    "    df = pd.DataFrame(df)\n",
    "    return df"
   ]
  },
  {
   "cell_type": "code",
   "execution_count": 5,
   "id": "c46cba9a",
   "metadata": {
    "ExecuteTime": {
     "end_time": "2022-09-20T12:24:22.022063Z",
     "start_time": "2022-09-20T12:24:22.017871Z"
    }
   },
   "outputs": [],
   "source": [
    "def manual_label(i):\n",
    "    if i == 'https://coles.hub.clearlrs.com':\n",
    "        return \"home\"\n",
    "    \n",
    "    if \"activities\" in i:\n",
    "        return \"activities\"\n",
    "        \n",
    "    if \"course_id\" in i:\n",
    "        return 'course_id'\n",
    "    \n",
    "    if \"notifications\" in i:\n",
    "        return 'notifications'\n",
    "    \n",
    "    if \"course/\" in i:\n",
    "        return \"learningseat_course\"\n",
    "    \n",
    "    if \"colesplay\" in i:\n",
    "        return \"colesplay\"\n",
    "    \n",
    "    if 'https://coles.hub.clearlrs.com' not in i:\n",
    "        return 'others'\n",
    "\n",
    "    i = i.split('/')[-1] \n",
    "    return i"
   ]
  },
  {
   "cell_type": "code",
   "execution_count": 6,
   "id": "ce4f738c",
   "metadata": {
    "ExecuteTime": {
     "end_time": "2022-09-20T12:24:22.036513Z",
     "start_time": "2022-09-20T12:24:22.023574Z"
    }
   },
   "outputs": [],
   "source": [
    "def clean_first(df,name):\n",
    "    df = df.drop([\"id\"],axis = 1)\n",
    "    df = df.drop([\"response\"],axis = 1)\n",
    "    df = df.drop([\"rating\"],axis = 1)\n",
    "    df = df.drop([\"other\"],axis = 1)\n",
    "    \n",
    "    \n",
    "    # ActorID\n",
    "    list_actorid = df['actorId'].tolist()\n",
    "    temp_list = []\n",
    "    for i in list_actorid:\n",
    "        try:\n",
    "            temp_list.append(dict_actorid[i])\n",
    "        except KeyError:\n",
    "            temp_list.append('nan')\n",
    "            \n",
    "    df['actorId'] = temp_list\n",
    "    print(\"actorId\")\n",
    "    \n",
    "    \n",
    "    # Verb: keep the last word\n",
    "    list_verb = df['verb'].tolist()\n",
    "    list_verb = [ i.split('/')[-1] for i in list_verb]\n",
    "    df['verb'] = list_verb\n",
    "    print(\"verb\")\n",
    "    \n",
    "    \n",
    "    # Type: keep last word\n",
    "    list_type = df['type'].tolist()\n",
    "    list_type = [ str(i).split('/')[-1] for i in list_type]\n",
    "    for i in range(0,len(list_type)):\n",
    "        if list_type[i] == 'nan':\n",
    "            list_type[i] = pd.NA\n",
    "    df['type'] = list_type \n",
    "    print(\"type\")\n",
    "    \n",
    "    # Is manager: YN to 10\n",
    "    df.loc[(df[\"Is Manager\"] == \"Y\"), \"Is Manager\"] = 1\n",
    "    df.loc[(df[\"Is Manager\"] == \"N\"), \"Is Manager\"] = 0\n",
    "    print(\"manager\")\n",
    "    \n",
    "    \n",
    "    # Is new starter: YN to 10\n",
    "    df.loc[(df[\"Is New Starter\"] == \"Y\"), \"Is New Starter\"] = 1\n",
    "    df.loc[(df[\"Is New Starter\"] == \"N\"), \"Is New Starter\"] = 0\n",
    "    print(\"Starter\")\n",
    "    \n",
    "    \n",
    "    # Activities\n",
    "    list_activity = np.array(df['activity'])\n",
    "    temp_list = []\n",
    "    for i in list_activity:\n",
    "        res = manual_label(i)\n",
    "        temp_list.append(res)\n",
    "\n",
    "    df.insert(4, 'activity_url', df['activity'].to_list())\n",
    "    df['activity'] = temp_list\n",
    "    print('activity')\n",
    "    \n",
    "    \n",
    "    # ancestors\n",
    "    list_ancestors = np.array(df['ancestors'])\n",
    "    temp_list = []\n",
    "    for i in list_ancestors:\n",
    "        lines = str(i)[1:-1].split(\",\")\n",
    "        temp_list.append([manual_label(lines[i][14:-1]) for i in range(len(lines)) if i % 2 == 0])\n",
    "    df['ancestors'] = temp_list\n",
    "    print(\"ancestors\")\n",
    "    \n",
    "    \n",
    "    # Contained\n",
    "    list_contain = np.array(df.contained)\n",
    "    temp_list = []\n",
    "    for i in range(0,len(list_contain)):\n",
    "        if str(list_contain[i]) == '<NA>' or str(list_contain[i]) == 'nan':\n",
    "            temp_list.append(pd.NA)\n",
    "        else:\n",
    "            target_id = str(list_contain[i]).split(',')[0][13:-1]\n",
    "            result = []\n",
    "            try:\n",
    "                result.append(dict_actorid[target_id])\n",
    "            except KeyError:\n",
    "                result.append('unrecorded')\n",
    "\n",
    "            contained_verb = str(list_contain[i]).split(',')[1][10:-2].split('/')[-1]\n",
    "            result.append(contained_verb)\n",
    "            temp_list.append(result)\n",
    "    df.contained = temp_list\n",
    "    print(\"contained\")\n",
    "    \n",
    "    \n",
    "    # Timezone\n",
    "    list_timezone = df['Time Zone'].unique()\n",
    "    temp_list = [dict_timezone[i] for i in df['Time Zone']]\n",
    "    df['Time Zone'] = temp_list\n",
    "    print(\"time zone\")\n",
    "    \n",
    "    df.to_csv(name, index = False)\n",
    "    print('Finish')"
   ]
  },
  {
   "cell_type": "code",
   "execution_count": null,
   "id": "dcdb95fb",
   "metadata": {},
   "outputs": [],
   "source": []
  },
  {
   "cell_type": "code",
   "execution_count": null,
   "id": "dcc68f70",
   "metadata": {},
   "outputs": [],
   "source": []
  },
  {
   "cell_type": "code",
   "execution_count": 44,
   "id": "6262ce0d",
   "metadata": {
    "ExecuteTime": {
     "end_time": "2022-09-20T13:36:54.788599Z",
     "start_time": "2022-09-20T13:31:00.514168Z"
    }
   },
   "outputs": [
    {
     "name": "stdout",
     "output_type": "stream",
     "text": [
      "300 330\n",
      "Json_file/2022-04-27.json  1\n",
      "Json_file/2022-04-28.json  2\n",
      "Json_file/2022-04-29.json  3\n",
      "Json_file/2022-04-30.json  4\n",
      "Json_file/2022-05-01.json  5\n",
      "Json_file/2022-05-02.json  6\n",
      "Json_file/2022-05-03.json  7\n",
      "Json_file/2022-05-04.json  8\n",
      "Json_file/2022-05-05.json  9\n",
      "Json_file/2022-05-06.json  10\n",
      "Json_file/2022-05-07.json  11\n",
      "Json_file/2022-05-08.json  12\n",
      "Json_file/2022-05-09.json  13\n",
      "Json_file/2022-05-10.json  14\n",
      "Json_file/2022-05-11.json  15\n",
      "Json_file/2022-05-12.json  16\n",
      "Json_file/2022-05-13.json  17\n",
      "Json_file/2022-05-14.json  18\n",
      "Json_file/2022-05-15.json  19\n",
      "Json_file/2022-05-16.json  20\n",
      "Json_file/2022-05-17.json  21\n",
      "Json_file/2022-05-18.json  22\n",
      "Json_file/2022-05-19.json  23\n",
      "Json_file/2022-05-20.json  24\n",
      "Json_file/2022-05-21.json  25\n",
      "Json_file/2022-05-22.json  26\n",
      "Json_file/2022-05-23.json  27\n",
      "Json_file/2022-05-24.json  28\n",
      "Json_file/2022-05-25.json  29\n",
      "Json_file/2022-05-26.json  30\n",
      "12_CSV/10.csv\n",
      "actorId\n",
      "verb\n",
      "type\n",
      "manager\n",
      "Starter\n",
      "activity\n",
      "ancestors\n",
      "contained\n",
      "time zone\n",
      "Finish\n",
      "\n",
      "330 365\n",
      "Json_file/2022-05-27.json  1\n",
      "Json_file/2022-05-28.json  2\n",
      "Json_file/2022-05-29.json  3\n",
      "Json_file/2022-05-30.json  4\n",
      "Json_file/2022-05-31.json  5\n",
      "Json_file/2022-06-01.json  6\n",
      "Json_file/2022-06-02.json  7\n",
      "Json_file/2022-06-03.json  8\n",
      "Json_file/2022-06-04.json  9\n",
      "Json_file/2022-06-05.json  10\n",
      "Json_file/2022-06-06.json  11\n",
      "Json_file/2022-06-07.json  12\n",
      "Json_file/2022-06-08.json  13\n",
      "Json_file/2022-06-09.json  14\n",
      "Json_file/2022-06-10.json  15\n",
      "Json_file/2022-06-11.json  16\n",
      "Json_file/2022-06-12.json  17\n",
      "Json_file/2022-06-13.json  18\n",
      "Json_file/2022-06-14.json  19\n",
      "Json_file/2022-06-15.json  20\n",
      "Json_file/2022-06-16.json  21\n",
      "Json_file/2022-06-17.json  22\n",
      "Json_file/2022-06-18.json  23\n",
      "Json_file/2022-06-19.json  24\n",
      "Json_file/2022-06-20.json  25\n",
      "Json_file/2022-06-21.json  26\n",
      "Json_file/2022-06-22.json  27\n",
      "Json_file/2022-06-23.json  28\n",
      "Json_file/2022-06-24.json  29\n",
      "Json_file/2022-06-25.json  30\n",
      "Json_file/2022-06-26.json  31\n",
      "Json_file/2022-06-27.json  32\n",
      "Json_file/2022-06-28.json  33\n",
      "Json_file/2022-06-29.json  34\n",
      "Json_file/2022-06-30.json  35\n",
      "12_CSV/11.csv\n",
      "actorId\n",
      "verb\n",
      "type\n",
      "manager\n",
      "Starter\n",
      "activity\n",
      "ancestors\n",
      "contained\n",
      "time zone\n",
      "Finish\n",
      "\n"
     ]
    }
   ],
   "source": [
    "#0\n",
    "file_list = [0,30,60,90,120,150,180,210,240,270,300,330,365]\n",
    "for i in range(len(file_list)-1):\n",
    "    print(file_list[i],file_list[i+1])\n",
    "    a = file_list[i]\n",
    "    b = file_list[i+1]\n",
    "    \n",
    "    df_all = pd.DataFrame()\n",
    "    count = 1\n",
    "    for j in all_files[int(a):int(b)]:\n",
    "        df_all = df_all.append(read_json_file(j))\n",
    "        print(j + \"  \" + str(count))\n",
    "        count+=1\n",
    "    \n",
    "    name = '12_CSV/' + str(i+10) + '.csv'\n",
    "    print(name)\n",
    "    clean_first(df_all,name)\n",
    "    print('')"
   ]
  },
  {
   "cell_type": "code",
   "execution_count": null,
   "id": "9b998e7a",
   "metadata": {},
   "outputs": [],
   "source": []
  },
  {
   "cell_type": "code",
   "execution_count": null,
   "id": "570d18ab",
   "metadata": {},
   "outputs": [],
   "source": []
  },
  {
   "cell_type": "code",
   "execution_count": null,
   "id": "b7a49c47",
   "metadata": {},
   "outputs": [],
   "source": []
  },
  {
   "cell_type": "code",
   "execution_count": null,
   "id": "6413ab44",
   "metadata": {},
   "outputs": [],
   "source": []
  },
  {
   "cell_type": "code",
   "execution_count": null,
   "id": "5053779a",
   "metadata": {},
   "outputs": [],
   "source": []
  },
  {
   "cell_type": "code",
   "execution_count": null,
   "id": "361aedeb",
   "metadata": {},
   "outputs": [],
   "source": []
  },
  {
   "cell_type": "code",
   "execution_count": null,
   "id": "6bfd091b",
   "metadata": {},
   "outputs": [],
   "source": []
  },
  {
   "cell_type": "code",
   "execution_count": null,
   "id": "0a7c2b40",
   "metadata": {},
   "outputs": [],
   "source": []
  },
  {
   "cell_type": "code",
   "execution_count": null,
   "id": "17fc7362",
   "metadata": {},
   "outputs": [],
   "source": []
  },
  {
   "cell_type": "code",
   "execution_count": null,
   "id": "babf6018",
   "metadata": {},
   "outputs": [],
   "source": []
  },
  {
   "cell_type": "code",
   "execution_count": null,
   "id": "5ec5334b",
   "metadata": {},
   "outputs": [],
   "source": []
  },
  {
   "cell_type": "code",
   "execution_count": null,
   "id": "028a8eb3",
   "metadata": {},
   "outputs": [],
   "source": []
  },
  {
   "cell_type": "code",
   "execution_count": null,
   "id": "99365ed2",
   "metadata": {},
   "outputs": [],
   "source": []
  },
  {
   "cell_type": "code",
   "execution_count": null,
   "id": "8d0237a3",
   "metadata": {},
   "outputs": [],
   "source": []
  },
  {
   "cell_type": "code",
   "execution_count": null,
   "id": "a923e785",
   "metadata": {},
   "outputs": [],
   "source": []
  },
  {
   "cell_type": "code",
   "execution_count": null,
   "id": "452ab04e",
   "metadata": {},
   "outputs": [],
   "source": []
  },
  {
   "cell_type": "code",
   "execution_count": null,
   "id": "b2866069",
   "metadata": {},
   "outputs": [],
   "source": []
  },
  {
   "cell_type": "code",
   "execution_count": null,
   "id": "9c1d0832",
   "metadata": {},
   "outputs": [],
   "source": []
  },
  {
   "cell_type": "code",
   "execution_count": null,
   "id": "ddf30f3c",
   "metadata": {},
   "outputs": [],
   "source": []
  },
  {
   "cell_type": "code",
   "execution_count": null,
   "id": "5704d7d0",
   "metadata": {},
   "outputs": [],
   "source": []
  }
 ],
 "metadata": {
  "kernelspec": {
   "display_name": "Python 3",
   "language": "python",
   "name": "python3"
  },
  "language_info": {
   "codemirror_mode": {
    "name": "ipython",
    "version": 3
   },
   "file_extension": ".py",
   "mimetype": "text/x-python",
   "name": "python",
   "nbconvert_exporter": "python",
   "pygments_lexer": "ipython3",
   "version": "3.8.8"
  },
  "toc": {
   "base_numbering": 1,
   "nav_menu": {},
   "number_sections": true,
   "sideBar": true,
   "skip_h1_title": false,
   "title_cell": "Table of Contents",
   "title_sidebar": "Contents",
   "toc_cell": false,
   "toc_position": {},
   "toc_section_display": true,
   "toc_window_display": false
  }
 },
 "nbformat": 4,
 "nbformat_minor": 5
}
